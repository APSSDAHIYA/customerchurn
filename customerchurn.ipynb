{
 "cells": [
  {
   "cell_type": "code",
   "execution_count": 54,
   "metadata": {},
   "outputs": [
    {
     "name": "stdout",
     "output_type": "stream",
     "text": [
      "0         29.85\n",
      "1       1889.50\n",
      "2        108.15\n",
      "3       1840.75\n",
      "4        151.65\n",
      "         ...   \n",
      "7038    1990.50\n",
      "7039    7362.90\n",
      "7040     346.45\n",
      "7041     306.60\n",
      "7042    6844.50\n",
      "Name: TotalCharges, Length: 7043, dtype: float64\n",
      "      One year  Two year\n",
      "0            0         0\n",
      "1            1         0\n",
      "2            0         0\n",
      "3            1         0\n",
      "4            0         0\n",
      "...        ...       ...\n",
      "7038         1         0\n",
      "7039         1         0\n",
      "7040         0         0\n",
      "7041         0         0\n",
      "7042         0         1\n",
      "\n",
      "[7043 rows x 2 columns]\n",
      "SeniorCitizen              0\n",
      "tenure                     0\n",
      "MonthlyCharges             0\n",
      "TotalCharges               0\n",
      "genderdummies              0\n",
      "Dependentsdummi            0\n",
      "PhoneServicedmi            0\n",
      "internetservice            0\n",
      "DeviceProtection           0\n",
      "TechSupport                0\n",
      "CableService               0\n",
      "oneyear                    0\n",
      "twoyear                    0\n",
      "PaperlessBilling           0\n",
      "Credit card (automatic)    0\n",
      "Electronic check           0\n",
      "Mailed check               0\n",
      "Churn                      0\n",
      "dtype: int64\n"
     ]
    },
    {
     "data": {
      "text/plain": [
       "(7043, 18)"
      ]
     },
     "execution_count": 54,
     "metadata": {},
     "output_type": "execute_result"
    }
   ],
   "source": [
    "import pandas as pd\n",
    "import numpy as np\n",
    "\n",
    "rawdata = pd.read_csv('Telco_Customer_Churn.csv')\n",
    "rawdata.head()\n",
    "abc =rawdata.TotalCharges.str.strip()\n",
    "\n",
    "totalchargesnewdata =  abc.apply(pd.to_numeric)\n",
    "print(totalchargesnewdata)\n",
    "rawdata.isnull().sum()\n",
    "#newdata =  data.apply(pd.to_numeric)\n",
    "\n",
    "\n",
    "genderdummies =pd.get_dummies(rawdata.gender, drop_first=True)\n",
    "genderdummies\n",
    "#@SeniorCitizendummiy =pd.get_dummies(rawdata.SeniorCitizen, drop_first=True)\n",
    "#SeniorCitizendummiy\n",
    "#genderdummies\n",
    "#rawdata.head\n",
    "Dependentsdummi =pd.get_dummies(rawdata.Dependents, drop_first=True)\n",
    "Dependentsdummi\n",
    "rawdata.head\n",
    "\n",
    "#tenuredumi = pd.get_dummies(rawdata.tenure, drop_first=True)\n",
    "#tenuredumi\n",
    "PhoneServicedmi =pd.get_dummies(rawdata.PhoneService, drop_first=True)\n",
    "PhoneServicedmi\n",
    "InternetServicedumi = pd.get_dummies(rawdata.InternetService, drop_first=True)\n",
    "InternetServicedumi\n",
    "\n",
    "DeviceProtectiondumi = pd.get_dummies(rawdata.DeviceProtection, drop_first=True)\n",
    "DeviceProtectiondumi\n",
    "TechSupportdummi =pd.get_dummies(rawdata.TechSupport, drop_first=True)\n",
    "TechSupportdummi\n",
    "CableServicedummi = pd.get_dummies(rawdata.CableService, drop_first=True)\n",
    "CableServicedummi\n",
    "Contractdumi =pd.get_dummies(rawdata.Contract, drop_first=True)\n",
    "print(Contractdumi)\n",
    "PaperlessBillingdumi =pd.get_dummies(rawdata.PaperlessBilling, drop_first=True)\n",
    "PaperlessBillingdumi\n",
    "PaymentMethoddumi =pd.get_dummies(rawdata.PaymentMethod, drop_first=True)\n",
    "PaymentMethoddumi\n",
    "Churndumi =pd.get_dummies(rawdata.Churn, drop_first=True)\n",
    "dropcolumn =['customerID','gender','Dependents','PhoneService','InternetService','DeviceProtection','TechSupport',\n",
    "                     'CableService','Contract','PaperlessBilling','PaymentMethod','Churn']\n",
    "rawdata =rawdata.drop(dropcolumn,axis=1)\n",
    "rawdata\n",
    "#Churndumi\n",
    "rawdata['genderdummies']=pd.DataFrame(genderdummies)\n",
    "#rawdata['genderdummies']=pd.DataFrame(genderdummies)\n",
    "rawdata['Dependentsdummi']=pd.DataFrame(Dependentsdummi)\n",
    "rawdata['PhoneServicedmi']=pd.DataFrame(PhoneServicedmi)\n",
    "rawdata['internetservice']=pd.DataFrame(InternetServicedumi)\n",
    "rawdata['DeviceProtection']=pd.DataFrame(DeviceProtectiondumi)\n",
    "rawdata['TechSupport']=pd.DataFrame(TechSupportdummi)\n",
    "rawdata['CableService']=pd.DataFrame(CableServicedummi)\n",
    "rawdata\n",
    "Contractdumi\n",
    "contract=['oneyear','twoyear']\n",
    "rawdata[contract]=pd.DataFrame(Contractdumi)\n",
    "rawdata['PaperlessBilling']=pd.DataFrame(PaperlessBillingdumi)\n",
    "rawdata\n",
    "PaymentMethoddumi\n",
    "payment=['Credit card (automatic)','Electronic check','Mailed check']\n",
    "rawdata[payment]=pd.DataFrame(PaymentMethoddumi)\n",
    "rawdata['Churn']=pd.DataFrame(Churndumi)\n",
    "print(rawdata.isnull().sum())\n",
    "rawdata =rawdata.drop('TotalCharges',axis =1)\n",
    "rawdata['TotalCharges']=pd.DataFrame(totalchargesnewdata)\n",
    "rawdata.shape"
   ]
  },
  {
   "cell_type": "code",
   "execution_count": 53,
   "metadata": {},
   "outputs": [
    {
     "name": "stdout",
     "output_type": "stream",
     "text": [
      "SeniorCitizen               0\n",
      "tenure                      0\n",
      "MonthlyCharges              0\n",
      "genderdummies               0\n",
      "Dependentsdummi             0\n",
      "PhoneServicedmi             0\n",
      "internetservice             0\n",
      "DeviceProtection            0\n",
      "TechSupport                 0\n",
      "CableService                0\n",
      "oneyear                     0\n",
      "twoyear                     0\n",
      "PaperlessBilling            0\n",
      "Credit card (automatic)     0\n",
      "Electronic check            0\n",
      "Mailed check                0\n",
      "Churn                       0\n",
      "TotalCharges               11\n",
      "dtype: int64\n"
     ]
    }
   ],
   "source": [
    "newdata =  rawdata.apply(pd.to_numeric)\n",
    "print(newdata.isnull().sum())\n",
    "newdata =newdata.dropna()\n",
    "newdata.to_csv('finaldata.csv')"
   ]
  },
  {
   "cell_type": "code",
   "execution_count": 27,
   "metadata": {},
   "outputs": [
    {
     "data": {
      "text/plain": [
       "(7032, 17)"
      ]
     },
     "execution_count": 27,
     "metadata": {},
     "output_type": "execute_result"
    }
   ],
   "source": [
    "Y = newdata['Churn']\n",
    "X = newdata.drop('Churn',axis=1)\n",
    "X.shape"
   ]
  },
  {
   "cell_type": "code",
   "execution_count": 28,
   "metadata": {},
   "outputs": [
    {
     "data": {
      "text/plain": [
       "array([[ 2.54811598e-01, -6.07902831e-02,  2.78999369e-02,\n",
       "        -4.49301910e-02, -1.67415121e-01, -1.04565800e+00,\n",
       "         1.51601942e-01, -1.87850912e-01, -6.92726760e-01,\n",
       "        -9.85060004e-02, -6.27094932e-01, -1.02053985e+00,\n",
       "         3.77234696e-01, -2.44887942e-01,  1.77555906e-01,\n",
       "        -2.02781912e-01,  2.63546831e-04]])"
      ]
     },
     "execution_count": 28,
     "metadata": {},
     "output_type": "execute_result"
    }
   ],
   "source": [
    "from sklearn.feature_selection import SelectFromModel\n",
    "from sklearn.linear_model import LogisticRegression\n",
    "\n",
    "logisticmodel = SelectFromModel(estimator=LogisticRegression(max_iter=5000)).fit(X, Y)\n",
    "logisticmodel.estimator_.coef_"
   ]
  },
  {
   "cell_type": "code",
   "execution_count": 30,
   "metadata": {},
   "outputs": [
    {
     "data": {
      "text/plain": [
       "0.31662056059698007"
      ]
     },
     "execution_count": 30,
     "metadata": {},
     "output_type": "execute_result"
    }
   ],
   "source": [
    "logisticmodel.threshold_"
   ]
  },
  {
   "cell_type": "code",
   "execution_count": 31,
   "metadata": {},
   "outputs": [
    {
     "data": {
      "text/plain": [
       "array([False, False, False, False, False,  True, False, False,  True,\n",
       "       False,  True,  True,  True, False, False, False, False])"
      ]
     },
     "execution_count": 31,
     "metadata": {},
     "output_type": "execute_result"
    }
   ],
   "source": [
    "logisticmodel.get_support()"
   ]
  },
  {
   "cell_type": "code",
   "execution_count": 32,
   "metadata": {},
   "outputs": [
    {
     "data": {
      "text/plain": [
       "array([[0., 0., 0., 0., 1.],\n",
       "       [1., 0., 1., 0., 0.],\n",
       "       [1., 0., 0., 0., 1.],\n",
       "       ...,\n",
       "       [0., 0., 0., 0., 1.],\n",
       "       [1., 0., 0., 0., 1.],\n",
       "       [1., 1., 0., 1., 1.]])"
      ]
     },
     "execution_count": 32,
     "metadata": {},
     "output_type": "execute_result"
    }
   ],
   "source": [
    "transformofX = logisticmodel.transform(X)\n",
    "transformofX.shape\n",
    "transformofX"
   ]
  },
  {
   "cell_type": "code",
   "execution_count": 33,
   "metadata": {},
   "outputs": [
    {
     "name": "stdout",
     "output_type": "stream",
     "text": [
      "                   Results: Generalized linear model\n",
      "========================================================================\n",
      "Model:                  GLM                AIC:              5938.5096  \n",
      "Link Function:          logit              BIC:              -56235.9489\n",
      "Dependent Variable:     Churn              Log-Likelihood:   -2952.3    \n",
      "Date:                   2020-07-12 21:02   LL-Null:          -4071.7    \n",
      "No. Observations:       7032               Deviance:         5904.5     \n",
      "Df Model:               16                 Pearson chi2:     8.47e+03   \n",
      "Df Residuals:           7015               Scale:            1.0000     \n",
      "Method:                 IRLS                                            \n",
      "------------------------------------------------------------------------\n",
      "                         Coef.  Std.Err.    z     P>|z|   [0.025  0.975]\n",
      "------------------------------------------------------------------------\n",
      "SeniorCitizen            0.2377   0.0832   2.8574 0.0043  0.0747  0.4008\n",
      "tenure                  -0.0687   0.0057 -12.0011 0.0000 -0.0799 -0.0575\n",
      "MonthlyCharges           0.0290   0.0035   8.2691 0.0000  0.0221  0.0359\n",
      "genderdummies           -0.0427   0.0635  -0.6728 0.5011 -0.1671  0.0817\n",
      "Dependentsdummi         -0.1981   0.0804  -2.4631 0.0138 -0.3557 -0.0405\n",
      "PhoneServicedmi         -1.3943   0.1327 -10.5065 0.0000 -1.6544 -1.1342\n",
      "internetservice         -0.3605   0.1599  -2.2539 0.0242 -0.6739 -0.0470\n",
      "DeviceProtection        -0.1981   0.0805  -2.4617 0.0138 -0.3559 -0.0404\n",
      "TechSupport             -0.5847   0.0846  -6.9078 0.0000 -0.7505 -0.4188\n",
      "CableService            -0.1822   0.0931  -1.9579 0.0502 -0.3646  0.0002\n",
      "oneyear                 -0.7627   0.1058  -7.2104 0.0000 -0.9700 -0.5554\n",
      "twoyear                 -1.5239   0.1752  -8.6973 0.0000 -1.8673 -1.1805\n",
      "PaperlessBilling         0.3506   0.0730   4.8021 0.0000  0.2075  0.4937\n",
      "Credit card (automatic) -0.1951   0.1082  -1.8031 0.0714 -0.4071  0.0170\n",
      "Electronic check         0.2377   0.0875   2.7172 0.0066  0.0662  0.4091\n",
      "Mailed check            -0.2616   0.1000  -2.6157 0.0089 -0.4577 -0.0656\n",
      "TotalCharges             0.0004   0.0001   5.7204 0.0000  0.0002  0.0005\n",
      "========================================================================\n",
      "\n"
     ]
    }
   ],
   "source": [
    "import statsmodels.api as sm\n",
    "logit_model = sm.GLM(Y, X, family=sm.families.Binomial())\n",
    "result=logit_model.fit(fit_intercept=True)\n",
    "print(result.summary2())"
   ]
  },
  {
   "cell_type": "code",
   "execution_count": 57,
   "metadata": {},
   "outputs": [
    {
     "name": "stdout",
     "output_type": "stream",
     "text": [
      "                             2.5%     97.5%        OR\n",
      "SeniorCitizen            1.077516  1.492952  1.268337\n",
      "tenure                   0.923229  0.944169  0.933640\n",
      "MonthlyCharges           1.022374  1.036527  1.029426\n",
      "genderdummies            0.846152  1.085106  0.958209\n",
      "Dependentsdummi          0.700666  0.960340  0.820291\n",
      "PhoneServicedmi          0.191202  0.321675  0.248002\n",
      "internetservice          0.509694  0.954080  0.697344\n",
      "DeviceProtection         0.700565  0.960425  0.820269\n",
      "TechSupport              0.472107  0.657853  0.557294\n",
      "CableService             0.694455  1.000196  0.833421\n",
      "oneyear                  0.379080  0.573858  0.466410\n",
      "twoyear                  0.154544  0.307138  0.217868\n",
      "PaperlessBilling         1.230591  1.638319  1.419894\n",
      "Credit card (automatic)  0.665594  1.017118  0.822793\n",
      "Electronic check         1.068475  1.505443  1.268278\n",
      "Mailed check             0.632746  0.936512  0.769789\n",
      "TotalCharges             1.000247  1.000504  1.000376\n"
     ]
    }
   ],
   "source": [
    "params = result.params\n",
    "conf = result.conf_int()\n",
    "conf['OR'] = params\n",
    "conf.columns = ['2.5%', '97.5%', 'OR']\n",
    "print(np.exp(conf))"
   ]
  },
  {
   "cell_type": "code",
   "execution_count": 34,
   "metadata": {},
   "outputs": [
    {
     "name": "stdout",
     "output_type": "stream",
     "text": [
      "(5274, 17)\n",
      "(1758, 17)\n",
      "(5274,)\n",
      "(1758,)\n"
     ]
    }
   ],
   "source": [
    "from sklearn.model_selection import train_test_split\n",
    "Xtraindata, Xtestdata, Ytraindata, Ytestdata = train_test_split(X, Y, test_size=0.25, random_state=42)\n",
    "print(Xtraindata.shape)\n",
    "print(Xtestdata.shape)\n",
    "print(Ytraindata.shape)\n",
    "print(Ytestdata.shape)"
   ]
  },
  {
   "cell_type": "code",
   "execution_count": 35,
   "metadata": {},
   "outputs": [
    {
     "name": "stdout",
     "output_type": "stream",
     "text": [
      "yesd\n",
      "you are here\n",
      "done\n"
     ]
    }
   ],
   "source": [
    "import pandas as pd\n",
    "print(\"yesd\")\n",
    "import sys, setuptools, tokenize\n",
    "#import ez_setup\n",
    "import xgboost\n",
    "#!pip3 install Xgboost\n",
    "import xgboost\n",
    "print(\"you are here\")\n",
    "#!pip #install xgboost\n",
    "from sklearn.pipeline import Pipeline\n",
    "from sklearn.model_selection import train_test_split\n",
    "from sklearn.linear_model import LogisticRegression\n",
    "from sklearn.neighbors import KNeighborsClassifier\n",
    "from sklearn.svm import SVC\n",
    "from sklearn.gaussian_process import GaussianProcessClassifier\n",
    "from sklearn.gaussian_process.kernels import RBF\n",
    "from sklearn.tree import DecisionTreeClassifier\n",
    "from sklearn.ensemble import RandomForestClassifier, AdaBoostClassifier\n",
    "from xgboost import XGBClassifier\n",
    "print(\"done\")\n",
    "from sklearn.neural_network import MLPClassifier\n",
    "from sklearn.naive_bayes import GaussianNB\n",
    "from sklearn.discriminant_analysis import QuadraticDiscriminantAnalysis\n",
    "from sklearn.metrics import accuracy_score, log_loss"
   ]
  },
  {
   "cell_type": "code",
   "execution_count": 36,
   "metadata": {},
   "outputs": [
    {
     "name": "stderr",
     "output_type": "stream",
     "text": [
      "C:\\Users\\Aki\\Anaconda3\\lib\\site-packages\\sklearn\\linear_model\\_logistic.py:938: ConvergenceWarning: lbfgs failed to converge (status=1):\n",
      "STOP: TOTAL NO. of ITERATIONS REACHED LIMIT.\n",
      "\n",
      "Increase the number of iterations (max_iter) or scale the data as shown in:\n",
      "    https://scikit-learn.org/stable/modules/preprocessing.html\n",
      "Please also refer to the documentation for alternative solver options:\n",
      "    https://scikit-learn.org/stable/modules/linear_model.html#logistic-regression\n",
      "  n_iter_i = _check_optimize_result(\n"
     ]
    },
    {
     "name": "stdout",
     "output_type": "stream",
     "text": [
      "LogisticRegression(C=1.0, class_weight=None, dual=False, fit_intercept=True,\n",
      "                   intercept_scaling=1, l1_ratio=None, max_iter=100,\n",
      "                   multi_class='auto', n_jobs=None, penalty='l2',\n",
      "                   random_state=None, solver='lbfgs', tol=0.0001, verbose=0,\n",
      "                   warm_start=False)\n",
      "model score: 0.790\n",
      "\n",
      " -----------------------------------------------------------------------------------\n",
      "KNeighborsClassifier(algorithm='auto', leaf_size=30, metric='minkowski',\n",
      "                     metric_params=None, n_jobs=None, n_neighbors=3, p=2,\n",
      "                     weights='uniform')\n",
      "model score: 0.753\n",
      "\n",
      " -----------------------------------------------------------------------------------\n",
      "SVC(C=0.025, break_ties=False, cache_size=200, class_weight=None, coef0=0.0,\n",
      "    decision_function_shape='ovr', degree=3, gamma='scale', kernel='linear',\n",
      "    max_iter=-1, probability=False, random_state=None, shrinking=True,\n",
      "    tol=0.001, verbose=False)\n",
      "model score: 0.792\n",
      "\n",
      " -----------------------------------------------------------------------------------\n",
      "SVC(C=1, break_ties=False, cache_size=200, class_weight=None, coef0=0.0,\n",
      "    decision_function_shape='ovr', degree=3, gamma=2, kernel='rbf', max_iter=-1,\n",
      "    probability=False, random_state=None, shrinking=True, tol=0.001,\n",
      "    verbose=False)\n",
      "model score: 0.748\n",
      "\n",
      " -----------------------------------------------------------------------------------\n",
      "MLPClassifier(activation='relu', alpha=0.001, batch_size='auto', beta_1=0.9,\n",
      "              beta_2=0.999, early_stopping=False, epsilon=1e-08,\n",
      "              hidden_layer_sizes=(100,), learning_rate='adaptive',\n",
      "              learning_rate_init=0.001, max_fun=15000, max_iter=100000,\n",
      "              momentum=0.9, n_iter_no_change=10, nesterovs_momentum=True,\n",
      "              power_t=0.5, random_state=None, shuffle=True, solver='lbfgs',\n",
      "              tol=0.0001, validation_fraction=0.1, verbose=False,\n",
      "              warm_start=False)\n",
      "model score: 0.756\n",
      "\n",
      " -----------------------------------------------------------------------------------\n",
      "GaussianNB(priors=None, var_smoothing=1e-09)\n",
      "model score: 0.733\n",
      "\n",
      " -----------------------------------------------------------------------------------\n",
      "DecisionTreeClassifier(ccp_alpha=0.0, class_weight=None, criterion='gini',\n",
      "                       max_depth=5, max_features=None, max_leaf_nodes=None,\n",
      "                       min_impurity_decrease=0.0, min_impurity_split=None,\n",
      "                       min_samples_leaf=1, min_samples_split=2,\n",
      "                       min_weight_fraction_leaf=0.0, presort='deprecated',\n",
      "                       random_state=None, splitter='best')\n",
      "model score: 0.782\n",
      "\n",
      " -----------------------------------------------------------------------------------\n",
      "VotingClassifier(estimators=[('lr',\n",
      "                              LogisticRegression(C=1.0, class_weight=None,\n",
      "                                                 dual=False, fit_intercept=True,\n",
      "                                                 intercept_scaling=1,\n",
      "                                                 l1_ratio=None, max_iter=10000,\n",
      "                                                 multi_class='auto',\n",
      "                                                 n_jobs=None, penalty='l2',\n",
      "                                                 random_state=None,\n",
      "                                                 solver='lbfgs', tol=0.0001,\n",
      "                                                 verbose=0, warm_start=False)),\n",
      "                             ('knn',\n",
      "                              KNeighborsClassifier(algorithm='auto',\n",
      "                                                   leaf_size=30,\n",
      "                                                   metric='minkowski'...\n",
      "                                                     criterion='gini',\n",
      "                                                     max_depth=5,\n",
      "                                                     max_features=None,\n",
      "                                                     max_leaf_nodes=None,\n",
      "                                                     min_impurity_decrease=0.0,\n",
      "                                                     min_impurity_split=None,\n",
      "                                                     min_samples_leaf=1,\n",
      "                                                     min_samples_split=2,\n",
      "                                                     min_weight_fraction_leaf=0.0,\n",
      "                                                     presort='deprecated',\n",
      "                                                     random_state=None,\n",
      "                                                     splitter='best')),\n",
      "                             ('gnbs',\n",
      "                              GaussianNB(priors=None, var_smoothing=1e-09))],\n",
      "                 flatten_transform=True, n_jobs=None, voting='hard',\n",
      "                 weights=None)\n",
      "model score: 0.795\n",
      "\n",
      " -----------------------------------------------------------------------------------\n",
      "RandomForestClassifier(bootstrap=True, ccp_alpha=0.0, class_weight=None,\n",
      "                       criterion='gini', max_depth=5, max_features=1,\n",
      "                       max_leaf_nodes=None, max_samples=None,\n",
      "                       min_impurity_decrease=0.0, min_impurity_split=None,\n",
      "                       min_samples_leaf=1, min_samples_split=2,\n",
      "                       min_weight_fraction_leaf=0.0, n_estimators=10,\n",
      "                       n_jobs=None, oob_score=False, random_state=None,\n",
      "                       verbose=0, warm_start=False)\n",
      "model score: 0.789\n",
      "\n",
      " -----------------------------------------------------------------------------------\n",
      "BaggingClassifier(base_estimator=None, bootstrap=True, bootstrap_features=False,\n",
      "                  max_features=1.0, max_samples=1.0, n_estimators=10,\n",
      "                  n_jobs=None, oob_score=False, random_state=None, verbose=0,\n",
      "                  warm_start=False)\n",
      "model score: 0.781\n",
      "\n",
      " -----------------------------------------------------------------------------------\n",
      "AdaBoostClassifier(algorithm='SAMME.R', base_estimator=None, learning_rate=1.0,\n",
      "                   n_estimators=50, random_state=None)\n",
      "model score: 0.786\n",
      "\n",
      " -----------------------------------------------------------------------------------\n",
      "XGBClassifier(base_score=0.5, booster='gbtree', colsample_bylevel=1,\n",
      "              colsample_bynode=1, colsample_bytree=1, gamma=0, gpu_id=-1,\n",
      "              importance_type='gain', interaction_constraints='',\n",
      "              learning_rate=0.300000012, max_delta_step=0, max_depth=6,\n",
      "              min_child_weight=1, missing=nan, monotone_constraints='()',\n",
      "              n_estimators=100, n_jobs=0, num_parallel_tree=1,\n",
      "              objective='binary:logistic', random_state=0, reg_alpha=0,\n",
      "              reg_lambda=1, scale_pos_weight=1, subsample=1,\n",
      "              tree_method='exact', validate_parameters=1, verbosity=None)\n",
      "model score: 0.772\n",
      "\n",
      " -----------------------------------------------------------------------------------\n"
     ]
    },
    {
     "data": {
      "text/html": [
       "<div>\n",
       "<style scoped>\n",
       "    .dataframe tbody tr th:only-of-type {\n",
       "        vertical-align: middle;\n",
       "    }\n",
       "\n",
       "    .dataframe tbody tr th {\n",
       "        vertical-align: top;\n",
       "    }\n",
       "\n",
       "    .dataframe thead th {\n",
       "        text-align: right;\n",
       "    }\n",
       "</style>\n",
       "<table border=\"1\" class=\"dataframe\">\n",
       "  <thead>\n",
       "    <tr style=\"text-align: right;\">\n",
       "      <th></th>\n",
       "      <th>Classifier</th>\n",
       "      <th>Accuracy Score</th>\n",
       "    </tr>\n",
       "  </thead>\n",
       "  <tbody>\n",
       "    <tr>\n",
       "      <th>0</th>\n",
       "      <td>Logististic Regression</td>\n",
       "      <td>0.790102</td>\n",
       "    </tr>\n",
       "    <tr>\n",
       "      <th>1</th>\n",
       "      <td>Nearest Neighbors</td>\n",
       "      <td>0.753129</td>\n",
       "    </tr>\n",
       "    <tr>\n",
       "      <th>2</th>\n",
       "      <td>Linear SVM</td>\n",
       "      <td>0.792378</td>\n",
       "    </tr>\n",
       "    <tr>\n",
       "      <th>3</th>\n",
       "      <td>RBF SVM</td>\n",
       "      <td>0.748009</td>\n",
       "    </tr>\n",
       "    <tr>\n",
       "      <th>4</th>\n",
       "      <td>Neural Net</td>\n",
       "      <td>0.755973</td>\n",
       "    </tr>\n",
       "    <tr>\n",
       "      <th>5</th>\n",
       "      <td>Naive Bayes</td>\n",
       "      <td>0.732651</td>\n",
       "    </tr>\n",
       "    <tr>\n",
       "      <th>6</th>\n",
       "      <td>Decision Tree</td>\n",
       "      <td>0.781570</td>\n",
       "    </tr>\n",
       "    <tr>\n",
       "      <th>7</th>\n",
       "      <td>Majority Vote</td>\n",
       "      <td>0.794653</td>\n",
       "    </tr>\n",
       "    <tr>\n",
       "      <th>8</th>\n",
       "      <td>Random Forest</td>\n",
       "      <td>0.788965</td>\n",
       "    </tr>\n",
       "    <tr>\n",
       "      <th>9</th>\n",
       "      <td>Bagging</td>\n",
       "      <td>0.781001</td>\n",
       "    </tr>\n",
       "    <tr>\n",
       "      <th>10</th>\n",
       "      <td>AdaBoost</td>\n",
       "      <td>0.785552</td>\n",
       "    </tr>\n",
       "    <tr>\n",
       "      <th>11</th>\n",
       "      <td>XGBoost</td>\n",
       "      <td>0.771900</td>\n",
       "    </tr>\n",
       "  </tbody>\n",
       "</table>\n",
       "</div>"
      ],
      "text/plain": [
       "                Classifier  Accuracy Score\n",
       "0   Logististic Regression        0.790102\n",
       "1        Nearest Neighbors        0.753129\n",
       "2               Linear SVM        0.792378\n",
       "3                  RBF SVM        0.748009\n",
       "4               Neural Net        0.755973\n",
       "5              Naive Bayes        0.732651\n",
       "6            Decision Tree        0.781570\n",
       "7            Majority Vote        0.794653\n",
       "8            Random Forest        0.788965\n",
       "9                  Bagging        0.781001\n",
       "10                AdaBoost        0.785552\n",
       "11                 XGBoost        0.771900"
      ]
     },
     "execution_count": 36,
     "metadata": {},
     "output_type": "execute_result"
    }
   ],
   "source": [
    "import sklearn\n",
    "names  = [\"Logististic Regression\", \"Nearest Neighbors\", \"Linear SVM\", \"RBF SVM\", \n",
    "                 \"Neural Net\", \"Naive Bayes\", \"Decision Tree\", \"Majority Vote\", \"Random Forest\", \"Bagging\",  \n",
    "                 \"AdaBoost\", \"XGBoost\"]\n",
    "\n",
    "\n",
    "\n",
    "lr =LogisticRegression(max_iter=10000)\n",
    "knn = KNeighborsClassifier(3)\n",
    "linear_svc = SVC(kernel=\"linear\", C=0.025)\n",
    "gamma_svc = SVC(gamma=2, C=1)\n",
    "mlp = MLPClassifier(alpha=0.001, solver='lbfgs', learning_rate='adaptive', max_iter=100000)\n",
    "dtc = DecisionTreeClassifier(max_depth=5)\n",
    "gnbs = GaussianNB()\n",
    "\n",
    "mv_clf = sklearn.ensemble.VotingClassifier(estimators=[('lr', lr), ('knn', knn), ('linear_svc', linear_svc), \n",
    "                                                       ('gamma_svc', gamma_svc),('mlp', mlp), ('dtc', dtc),\n",
    "                                                       ('gnbs', gnbs)], voting='hard')\n",
    "\n",
    "\n",
    "classifiers = [\n",
    "               LogisticRegression(),\n",
    "               KNeighborsClassifier(3),\n",
    "               SVC(kernel=\"linear\", C=0.025),\n",
    "               SVC(gamma=2, C=1),\n",
    "               MLPClassifier(alpha=0.001, solver='lbfgs', learning_rate='adaptive', max_iter=100000),\n",
    "               GaussianNB(),\n",
    "               DecisionTreeClassifier(max_depth=5),\n",
    "               mv_clf,\n",
    "               RandomForestClassifier(max_depth=5, n_estimators=10, max_features=1),\n",
    "               sklearn.ensemble.BaggingClassifier(),\n",
    "               AdaBoostClassifier(),\n",
    "               XGBClassifier()]\n",
    "\n",
    "Scoreofclassifier =[]\n",
    "\n",
    "for classifier in classifiers:\n",
    "    pipeline = Pipeline(steps=[\n",
    "                      ('classifier', classifier)])\n",
    "    pipeline.fit(Xtraindata, Ytraindata)   \n",
    "    print(classifier)\n",
    "    Scoreofclassifier.append(pipeline.score(Xtestdata, Ytestdata))\n",
    "    print(\"model score: %.3f\" % pipeline.score(Xtestdata, Ytestdata))\n",
    "    print(\"\\n -----------------------------------------------------------------------------------\")\n",
    "    \n",
    "#end of pipeline\n",
    "\n",
    "#Create a dataframe for prediction scores\n",
    "scores_df = pd.DataFrame(zip(names,Scoreofclassifier), columns=['Classifier', 'Accuracy Score'])\n",
    "\n",
    "scores_df"
   ]
  },
  {
   "cell_type": "code",
   "execution_count": 50,
   "metadata": {},
   "outputs": [
    {
     "name": "stderr",
     "output_type": "stream",
     "text": [
      "C:\\Users\\Aki\\Anaconda3\\lib\\site-packages\\sklearn\\linear_model\\_logistic.py:938: ConvergenceWarning: lbfgs failed to converge (status=1):\n",
      "STOP: TOTAL NO. of ITERATIONS REACHED LIMIT.\n",
      "\n",
      "Increase the number of iterations (max_iter) or scale the data as shown in:\n",
      "    https://scikit-learn.org/stable/modules/preprocessing.html\n",
      "Please also refer to the documentation for alternative solver options:\n",
      "    https://scikit-learn.org/stable/modules/linear_model.html#logistic-regression\n",
      "  n_iter_i = _check_optimize_result(\n"
     ]
    },
    {
     "data": {
      "text/plain": [
       "<matplotlib.axes._subplots.AxesSubplot at 0x1e3e8642190>"
      ]
     },
     "execution_count": 50,
     "metadata": {},
     "output_type": "execute_result"
    },
    {
     "data": {
      "image/png": "[encoded data removed]",
      "text/plain": [
       "<Figure size 288x288 with 1 Axes>"
      ]
     },
     "metadata": {
      "needs_background": "light"
     },
     "output_type": "display_data"
    }
   ],
   "source": [
    "#LinearSVC\n",
    "from sklearn import metrics\n",
    "from sklearn import calibration\n",
    "#from sklearn.calibration import CalibratedClassifiertCV\n",
    "from sklearn.metrics import confusion_matrix\n",
    "import numpy as np\n",
    "import matplotlib.pyplot as plt\n",
    "%matplotlib inline\n",
    "import seaborn as sns\n",
    "\n",
    "\n",
    "xgb =LogisticRegression()\n",
    "\n",
    "xgb.fit(Xtraindata, Ytraindata)\n",
    "\n",
    "###pridiction manually\n",
    "y_pred_man = xgb.predict(Xtestdata)\n",
    "\n",
    "\n",
    "matrixdatadata = confusion_matrix(Ytestdata, y_pred_man)\n",
    "\n",
    "df_cm = pd.DataFrame(matrixdatadata, columns=np.unique(Ytestdata), index = np.unique(Ytestdata))\n",
    "df_cm.index.name = 'Actual'\n",
    "df_cm.columns.name = 'Predicted'\n",
    "plt.figure(figsize = (4,4))\n",
    "sns.set(font_scale=1.2)#for label size\n",
    "sns.heatmap(df_cm, annot=True,annot_kws={\"size\": 12}, cbar=False,\n",
    "          vmax=500, square=True, fmt=\"d\", cmap=\"Reds\")"
   ]
  },
  {
   "cell_type": "code",
   "execution_count": 51,
   "metadata": {},
   "outputs": [
    {
     "name": "stdout",
     "output_type": "stream",
     "text": [
      "              precision    recall  f1-score   support\n",
      "\n",
      "           0       0.84      0.89      0.86      1300\n",
      "           1       0.62      0.51      0.56       458\n",
      "\n",
      "    accuracy                           0.79      1758\n",
      "   macro avg       0.73      0.70      0.71      1758\n",
      "weighted avg       0.78      0.79      0.78      1758\n",
      "\n"
     ]
    }
   ],
   "source": [
    "from sklearn.metrics import classification_report\n",
    "print(classification_report(Ytestdata, y_pred_man))"
   ]
  },
  {
   "cell_type": "code",
   "execution_count": 52,
   "metadata": {},
   "outputs": [
    {
     "data": {
      "image/png": "[encoded data removed]",
      "text/plain": [
       "<Figure size 432x288 with 1 Axes>"
      ]
     },
     "metadata": {},
     "output_type": "display_data"
    }
   ],
   "source": [
    "from sklearn.metrics import roc_auc_score\n",
    "from sklearn.metrics import roc_curve\n",
    "import matplotlib.pyplot as plt \n",
    "\n",
    "logit_roc_auc = roc_auc_score(Ytestdata, xgb.predict(Xtestdata))\n",
    "fpr, tpr, thresholds = roc_curve(Ytestdata, xgb.predict_proba(Xtestdata)[:,1])\n",
    "plt.figure()\n",
    "plt.plot(fpr, tpr, label='logistic regression (area = %0.2f)' % logit_roc_auc)\n",
    "plt.plot([0, 1], [0, 1],'r--')\n",
    "plt.xlim([0.0, 1.0])\n",
    "plt.ylim([0.0, 1.05])\n",
    "plt.xlabel('False Positive Rate')\n",
    "plt.ylabel('True Positive Rate')\n",
    "plt.title('Receiver operating characteristic')\n",
    "plt.legend(loc=\"lower right\")\n",
    "plt.savefig('Log_ROC')\n",
    "plt.show()"
   ]
  },
  {
   "cell_type": "code",
   "execution_count": 55,
   "metadata": {},
   "outputs": [
    {
     "name": "stdout",
     "output_type": "stream",
     "text": [
      "[0]\n"
     ]
    }
   ],
   "source": [
    "x_input= [[0,32,64,1,0,1,1,0,0,0,0,0,1,1,0,0,2283.30]]\n",
    "x_ar = np.array(x_input)\n",
    "y_output = xgb.predict(x_ar)\n",
    "print(y_output)"
   ]
  },
  {
   "cell_type": "code",
   "execution_count": 56,
   "metadata": {},
   "outputs": [
    {
     "name": "stdout",
     "output_type": "stream",
     "text": [
      "[[0.75617974 0.24382026]]\n"
     ]
    }
   ],
   "source": [
    "prob = xgb.predict_proba(x_input)\n",
    "print(prob)"
   ]
  },
  {
   "cell_type": "code",
   "execution_count": null,
   "metadata": {},
   "outputs": [],
   "source": []
  }
 ],
 "metadata": {
  "kernelspec": {
   "display_name": "Python 3",
   "language": "python",
   "name": "python3"
  },
  "language_info": {
   "codemirror_mode": {
    "name": "ipython",
    "version": 3
   },
   "file_extension": ".py",
   "mimetype": "text/x-python",
   "name": "python",
   "nbconvert_exporter": "python",
   "pygments_lexer": "ipython3",
   "version": "3.8.1"
  }
 },
 "nbformat": 4,
 "nbformat_minor": 4
}
